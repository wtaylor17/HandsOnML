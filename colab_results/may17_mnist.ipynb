{
  "nbformat": 4,
  "nbformat_minor": 0,
  "metadata": {
    "colab": {
      "name": "may17_mnist.ipynb",
      "version": "0.3.2",
      "views": {},
      "default_view": {},
      "provenance": [],
      "collapsed_sections": []
    },
    "kernelspec": {
      "name": "python3",
      "display_name": "Python 3"
    },
    "accelerator": "GPU"
  },
  "cells": [
    {
      "metadata": {
        "id": "JZZlt_RjBkzZ",
        "colab_type": "code",
        "colab": {
          "autoexec": {
            "startup": false,
            "wait_interval": 0
          },
          "resources": {
            "http://localhost:8080/nbextensions/google.colab/files.js": {
              "data": "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",
              "ok": true,
              "headers": [
                [
                  "content-type",
                  "application/javascript"
                ]
              ],
              "status": 200,
              "status_text": "OK"
            }
          },
          "base_uri": "https://localhost:8080/",
          "height": 95
        },
        "outputId": "9cf435b6-dc2d-4f6d-f41d-39d6691f96e3",
        "executionInfo": {
          "status": "ok",
          "timestamp": 1526559563725,
          "user_tz": 180,
          "elapsed": 261906,
          "user": {
            "displayName": "Will Taylor-Melanson",
            "photoUrl": "https://lh3.googleusercontent.com/a/default-user=s128",
            "userId": "114964597521298864577"
          }
        }
      },
      "cell_type": "code",
      "source": [
        "#@title File upload\n",
        "from google.colab import files\n",
        "\n",
        "uploaded = files.upload()\n",
        "\n",
        "for fn in uploaded.keys():\n",
        "  print('User uploaded file \"{name}\" with length {length} bytes'.format(\n",
        "      name=fn, length=len(uploaded[fn])))"
      ],
      "execution_count": 2,
      "outputs": [
        {
          "output_type": "display_data",
          "data": {
            "text/html": [
              "\n",
              "     <input type=\"file\" id=\"files-1b306ad3-00bf-4265-92d0-acfd7d06cbc3\" name=\"files[]\" multiple disabled />\n",
              "     <output id=\"result-1b306ad3-00bf-4265-92d0-acfd7d06cbc3\">\n",
              "      Upload widget is only available when the cell has been executed in the\n",
              "      current browser session. Please rerun this cell to enable.\n",
              "      </output>\n",
              "      <script src=\"/nbextensions/google.colab/files.js\"></script> "
            ],
            "text/plain": [
              "<IPython.core.display.HTML object>"
            ]
          },
          "metadata": {
            "tags": []
          }
        },
        {
          "output_type": "stream",
          "text": [
            "Saving mnist-original.mat to mnist-original.mat\n",
            "User uploaded file \"mnist-original.mat\" with length 55440440 bytes\n"
          ],
          "name": "stdout"
        }
      ]
    },
    {
      "metadata": {
        "id": "aZtHolE-wATD",
        "colab_type": "code",
        "colab": {
          "autoexec": {
            "startup": false,
            "wait_interval": 0
          },
          "base_uri": "https://localhost:8080/",
          "height": 677
        },
        "outputId": "aad794b4-491a-49d1-f05a-5e0462a57279",
        "executionInfo": {
          "status": "ok",
          "timestamp": 1526573120605,
          "user_tz": 180,
          "elapsed": 1111,
          "user": {
            "displayName": "Will Taylor-Melanson",
            "photoUrl": "https://lh3.googleusercontent.com/a/default-user=s128",
            "userId": "114964597521298864577"
          }
        }
      },
      "cell_type": "code",
      "source": [
        "from keras.datasets import mnist\n",
        "import numpy as np\n",
        "\n",
        "(x_train, y_train), (x_test, y_test) = mnist.load_data()\n",
        "\n",
        "zeroes_data = np.reshape(x_train, [-1, 28*28]).astype('float32') / 255\n",
        "\n",
        "x_test = np.reshape(x_test, [-1, 28*28]).astype('float32')\n",
        "\n",
        "imshow(x_test[1])\n",
        "x_test /= 255\n",
        "imshow(x_test[1])"
      ],
      "execution_count": 18,
      "outputs": [
        {
          "output_type": "display_data",
          "data": {
            "image/png": "[encoded data removed]",
            "text/plain": [
              "<matplotlib.figure.Figure at 0x7ff0cd83a588>"
            ]
          },
          "metadata": {
            "tags": []
          }
        },
        {
          "output_type": "display_data",
          "data": {
            "image/png": "[encoded data removed]",
            "text/plain": [
              "<matplotlib.figure.Figure at 0x7ff0e75fcb38>"
            ]
          },
          "metadata": {
            "tags": []
          }
        }
      ]
    },
    {
      "metadata": {
        "id": "zFEU8k1ZBtQD",
        "colab_type": "code",
        "colab": {
          "autoexec": {
            "startup": false,
            "wait_interval": 0
          }
        }
      },
      "cell_type": "code",
      "source": [
        "#@title Data load\n",
        "from scipy import io\n",
        "import matplotlib\n",
        "import matplotlib.pyplot as plt\n",
        "\n",
        "mnist = io.loadmat('mnist-original.mat')\n",
        "\n",
        "zeroes_data = np.transpose(mnist['data'])\n",
        "np.random.shuffle(zeroes_data)\n",
        "\n",
        "# zeroes_data = np.transpose(mnist['data'])[:7000] + \\\n",
        "# np.random.normal(scale=8, size=(7000, 784))\n",
        "\n",
        "plt.imshow(zeroes_data[100].reshape((28, 28)), cmap=matplotlib.cm.bone,\n",
        "\t\t\t\tinterpolation='nearest')\n",
        "plt.axis('off')\n",
        "plt.show()"
      ],
      "execution_count": 0,
      "outputs": []
    },
    {
      "metadata": {
        "id": "qiL30SSvQIH6",
        "colab_type": "code",
        "colab": {
          "autoexec": {
            "startup": false,
            "wait_interval": 0
          }
        }
      },
      "cell_type": "code",
      "source": [
        "def imshow(x):\n",
        "  plt.imshow(x.reshape((28, 28)), cmap=matplotlib.cm.binary,\n",
        "\t\t\t\tinterpolation='nearest')\n",
        "  plt.axis('off')\n",
        "  plt.show()"
      ],
      "execution_count": 0,
      "outputs": []
    },
    {
      "metadata": {
        "id": "b1UmZIIyAKLe",
        "colab_type": "code",
        "colab": {
          "autoexec": {
            "startup": false,
            "wait_interval": 0
          }
        }
      },
      "cell_type": "code",
      "source": [
        "import keras\n",
        "from keras.layers import Dense, LSTM, RepeatVector, Lambda\n",
        "from keras.engine import Input\n",
        "from keras.models import Model\n",
        "import keras.backend as K\n",
        "\n",
        "n_inputs = 28*28\n",
        "n_hidden1 = 512\n",
        "n_latent = 2 # dimension of latent space\n",
        "n_hidden2 = n_hidden1\n",
        "n_outputs = n_inputs\n",
        "\n",
        "batch_size = 100\n",
        "n_epochs = 100"
      ],
      "execution_count": 0,
      "outputs": []
    },
    {
      "metadata": {
        "id": "9iYDJdNgCIn-",
        "colab_type": "code",
        "colab": {
          "autoexec": {
            "startup": false,
            "wait_interval": 0
          },
          "base_uri": "https://localhost:8080/",
          "height": 3771
        },
        "outputId": "8247596d-d50f-4c54-c842-adb5acc51be0",
        "executionInfo": {
          "status": "ok",
          "timestamp": 1526573677981,
          "user_tz": 180,
          "elapsed": 515639,
          "user": {
            "displayName": "Will Taylor-Melanson",
            "photoUrl": "https://lh3.googleusercontent.com/a/default-user=s128",
            "userId": "114964597521298864577"
          }
        }
      },
      "cell_type": "code",
      "source": [
        "x = Input(shape=(n_inputs,)) # input layer\n",
        "\n",
        "hidden1 = Dense(n_hidden1, activation='tanh')(x) # first hidden layer\n",
        "\n",
        "# z-paramaters for latent space\n",
        "mean = Dense(n_latent)(hidden1)\n",
        "log_sigma = Dense(n_latent)(hidden1)\n",
        "\n",
        "# helper function to comput z = mu + e * std\n",
        "def sample(args):\n",
        "  mean_, log_sig_ = args\n",
        "  epsilon = K.random_normal(shape=(batch_size, n_latent))\n",
        "  return mean_ + epsilon * K.exp(log_sig_)\n",
        "\n",
        "z = Lambda(sample)([mean, log_sigma])\n",
        "\n",
        "encoder = Model(inputs=x, outputs=z) # the encoder takes raw input and returns z\n",
        "# encoder.summary()\n",
        "\n",
        "latent_inputs = Input(shape=(n_latent,))\n",
        "# shape of latent space is (?, n_latent)\n",
        "\n",
        "hidden2 = Dense(n_hidden2, activation='relu')(latent_inputs) # LSTM cell 1\n",
        "\n",
        "# intermediate layer reshapes outputs from first LSTM\n",
        "# intermediate = Reshape((1, n_hidden3))(hidden3)\n",
        "\n",
        "# outputs are sigmoid activated, connected to LSTM cell 1\n",
        "outputs = Dense(n_outputs, activation='sigmoid')(hidden2)\n",
        "\n",
        "# the decoder takes a set of point in the latent space and returns instances\n",
        "decoder = Model(inputs=latent_inputs, outputs=outputs)\n",
        "# decoder.summary()\n",
        "\n",
        "from keras import losses, optimizers\n",
        "from keras.layers import Reshape\n",
        "\n",
        "y = encoder(x)\n",
        "\n",
        "outputs = decoder(y)\n",
        "end_to_end = Model(inputs=x, outputs=outputs)\n",
        "reconstruction_loss = losses.binary_crossentropy(x, outputs)\n",
        "reconstruction_loss *= n_inputs\n",
        "kl_loss = 1 + log_sigma - K.square(mean) - K.exp(log_sigma)\n",
        "kl_loss = K.sum(kl_loss, axis=-1)\n",
        "kl_loss *= -0.5\n",
        "vae_loss = K.mean(reconstruction_loss + kl_loss)\n",
        "end_to_end.add_loss(vae_loss)\n",
        "end_to_end.compile(optimizer=optimizers.Adam(lr=0.00001))\n",
        "# end_to_end.summary()\n",
        "\n",
        "end_to_end.fit(x=zeroes_data,\n",
        "               epochs=n_epochs, batch_size=batch_size)\n",
        "  "
      ],
      "execution_count": 20,
      "outputs": [
        {
          "output_type": "stream",
          "text": [
            "/usr/local/lib/python3.6/dist-packages/ipykernel_launcher.py:49: UserWarning: Output \"model_12\" missing from loss dictionary. We assume this was done on purpose, and we will not be expecting any data to be passed to \"model_12\" during training.\n"
          ],
          "name": "stderr"
        },
        {
          "output_type": "stream",
          "text": [
            "Epoch 1/100\n",
            "60000/60000 [==============================] - 5s 91us/step - loss: 202.3920\n",
            "Epoch 2/100\n",
            "60000/60000 [==============================] - 5s 87us/step - loss: 172.7992\n",
            "Epoch 3/100\n",
            "60000/60000 [==============================] - 5s 86us/step - loss: 166.4171\n",
            "Epoch 4/100\n",
            "60000/60000 [==============================] - 5s 86us/step - loss: 163.7491\n",
            "Epoch 5/100\n",
            "20800/60000 [=========>....................] - ETA: 3s - loss: 161.8465"
          ],
          "name": "stdout"
        },
        {
          "output_type": "stream",
          "text": [
            "60000/60000 [==============================] - 5s 85us/step - loss: 161.7452\n",
            "Epoch 6/100\n",
            "60000/60000 [==============================] - 5s 86us/step - loss: 159.9510\n",
            "Epoch 7/100\n",
            "60000/60000 [==============================] - 5s 86us/step - loss: 158.0602\n",
            "Epoch 8/100\n",
            "60000/60000 [==============================] - 5s 86us/step - loss: 156.4527\n",
            "Epoch 9/100\n",
            "33700/60000 [===============>..............] - ETA: 2s - loss: 155.3743"
          ],
          "name": "stdout"
        },
        {
          "output_type": "stream",
          "text": [
            "60000/60000 [==============================] - 5s 86us/step - loss: 155.0516\n",
            "Epoch 10/100\n",
            "60000/60000 [==============================] - 5s 85us/step - loss: 154.0585\n",
            "Epoch 11/100\n",
            "60000/60000 [==============================] - 5s 86us/step - loss: 153.1306\n",
            "Epoch 12/100\n",
            "60000/60000 [==============================] - 5s 86us/step - loss: 152.4070\n",
            "Epoch 13/100\n",
            "34300/60000 [================>.............] - ETA: 2s - loss: 152.0458"
          ],
          "name": "stdout"
        },
        {
          "output_type": "stream",
          "text": [
            "60000/60000 [==============================] - 5s 85us/step - loss: 151.7717\n",
            "Epoch 14/100\n",
            "60000/60000 [==============================] - 5s 85us/step - loss: 151.1059\n",
            "Epoch 15/100\n",
            "60000/60000 [==============================] - 5s 86us/step - loss: 150.6095\n",
            "Epoch 16/100\n",
            "60000/60000 [==============================] - 5s 86us/step - loss: 149.9824\n",
            "Epoch 17/100\n",
            "34200/60000 [================>.............] - ETA: 2s - loss: 149.1814"
          ],
          "name": "stdout"
        },
        {
          "output_type": "stream",
          "text": [
            "60000/60000 [==============================] - 5s 86us/step - loss: 149.5113\n",
            "Epoch 18/100\n",
            "60000/60000 [==============================] - 5s 87us/step - loss: 148.9910\n",
            "Epoch 19/100\n",
            "60000/60000 [==============================] - 5s 87us/step - loss: 148.7079\n",
            "Epoch 20/100\n",
            "60000/60000 [==============================] - 5s 84us/step - loss: 148.2217\n",
            "Epoch 21/100\n",
            "32500/60000 [===============>..............] - ETA: 2s - loss: 147.9530"
          ],
          "name": "stdout"
        },
        {
          "output_type": "stream",
          "text": [
            "60000/60000 [==============================] - 5s 86us/step - loss: 147.8358\n",
            "Epoch 22/100\n",
            "60000/60000 [==============================] - 5s 85us/step - loss: 147.4977\n",
            "Epoch 23/100\n",
            "60000/60000 [==============================] - 5s 84us/step - loss: 147.2000\n",
            "Epoch 24/100\n",
            "60000/60000 [==============================] - 5s 85us/step - loss: 146.8591\n",
            "Epoch 25/100\n",
            "36300/60000 [=================>............] - ETA: 2s - loss: 146.6389"
          ],
          "name": "stdout"
        },
        {
          "output_type": "stream",
          "text": [
            "60000/60000 [==============================] - 5s 87us/step - loss: 146.6558\n",
            "Epoch 26/100\n",
            "60000/60000 [==============================] - 5s 88us/step - loss: 146.3328\n",
            "Epoch 27/100\n",
            "60000/60000 [==============================] - 5s 87us/step - loss: 146.1240\n",
            "Epoch 28/100\n",
            "60000/60000 [==============================] - 5s 87us/step - loss: 145.8359\n",
            "Epoch 29/100\n",
            "31100/60000 [==============>...............] - ETA: 2s - loss: 145.5525"
          ],
          "name": "stdout"
        },
        {
          "output_type": "stream",
          "text": [
            "60000/60000 [==============================] - 5s 86us/step - loss: 145.6853\n",
            "Epoch 30/100\n",
            "60000/60000 [==============================] - 5s 86us/step - loss: 145.3457\n",
            "Epoch 31/100\n",
            "60000/60000 [==============================] - 5s 86us/step - loss: 145.1506\n",
            "Epoch 32/100\n",
            "60000/60000 [==============================] - 5s 85us/step - loss: 145.1736\n",
            "Epoch 33/100\n",
            "33300/60000 [===============>..............] - ETA: 2s - loss: 144.6767"
          ],
          "name": "stdout"
        },
        {
          "output_type": "stream",
          "text": [
            "60000/60000 [==============================] - 5s 86us/step - loss: 144.7450\n",
            "Epoch 34/100\n",
            "60000/60000 [==============================] - 5s 86us/step - loss: 144.5153\n",
            "Epoch 35/100\n",
            "60000/60000 [==============================] - 5s 87us/step - loss: 144.3624\n",
            "Epoch 36/100\n",
            "60000/60000 [==============================] - 5s 86us/step - loss: 144.3327\n",
            "Epoch 37/100\n",
            "32900/60000 [===============>..............] - ETA: 2s - loss: 143.9510"
          ],
          "name": "stdout"
        },
        {
          "output_type": "stream",
          "text": [
            "60000/60000 [==============================] - 5s 86us/step - loss: 144.0251\n",
            "Epoch 38/100\n",
            "60000/60000 [==============================] - 5s 85us/step - loss: 143.9122\n",
            "Epoch 39/100\n",
            "60000/60000 [==============================] - 5s 83us/step - loss: 143.7211\n",
            "Epoch 40/100\n",
            "60000/60000 [==============================] - 5s 84us/step - loss: 143.5888\n",
            "Epoch 41/100\n",
            "38800/60000 [==================>...........] - ETA: 1s - loss: 143.4152"
          ],
          "name": "stdout"
        },
        {
          "output_type": "stream",
          "text": [
            "60000/60000 [==============================] - 5s 85us/step - loss: 143.4764\n",
            "Epoch 42/100\n",
            "60000/60000 [==============================] - 5s 86us/step - loss: 143.2729\n",
            "Epoch 43/100\n",
            "60000/60000 [==============================] - 5s 85us/step - loss: 143.1396\n",
            "Epoch 44/100\n",
            "60000/60000 [==============================] - 5s 85us/step - loss: 143.0828\n",
            "Epoch 45/100\n",
            "35700/60000 [================>.............] - ETA: 2s - loss: 142.5655"
          ],
          "name": "stdout"
        },
        {
          "output_type": "stream",
          "text": [
            "60000/60000 [==============================] - 5s 85us/step - loss: 142.8426\n",
            "Epoch 46/100\n",
            "60000/60000 [==============================] - 5s 86us/step - loss: 142.7696\n",
            "Epoch 47/100\n",
            "60000/60000 [==============================] - 5s 84us/step - loss: 142.6137\n",
            "Epoch 48/100\n",
            "60000/60000 [==============================] - 5s 86us/step - loss: 142.4725\n",
            "Epoch 49/100\n",
            "34100/60000 [================>.............] - ETA: 2s - loss: 142.3478"
          ],
          "name": "stdout"
        },
        {
          "output_type": "stream",
          "text": [
            "60000/60000 [==============================] - 5s 86us/step - loss: 142.4038\n",
            "Epoch 50/100\n",
            "60000/60000 [==============================] - 5s 86us/step - loss: 142.2542\n",
            "Epoch 51/100\n",
            "60000/60000 [==============================] - 5s 86us/step - loss: 142.2789\n",
            "Epoch 52/100\n",
            "60000/60000 [==============================] - 5s 85us/step - loss: 142.0003\n",
            "Epoch 53/100\n",
            "33200/60000 [===============>..............] - ETA: 2s - loss: 141.8184"
          ],
          "name": "stdout"
        },
        {
          "output_type": "stream",
          "text": [
            "60000/60000 [==============================] - 5s 85us/step - loss: 141.9899\n",
            "Epoch 54/100\n",
            "60000/60000 [==============================] - 5s 85us/step - loss: 141.7491\n",
            "Epoch 55/100\n",
            "60000/60000 [==============================] - 5s 86us/step - loss: 141.7075\n",
            "Epoch 56/100\n",
            "60000/60000 [==============================] - 5s 85us/step - loss: 141.5532\n",
            "Epoch 57/100\n",
            "35900/60000 [================>.............] - ETA: 2s - loss: 141.4764"
          ],
          "name": "stdout"
        },
        {
          "output_type": "stream",
          "text": [
            "60000/60000 [==============================] - 5s 84us/step - loss: 141.6422\n",
            "Epoch 58/100\n",
            "60000/60000 [==============================] - 5s 85us/step - loss: 141.4241\n",
            "Epoch 59/100\n",
            "60000/60000 [==============================] - 5s 86us/step - loss: 141.3399\n",
            "Epoch 60/100\n",
            "60000/60000 [==============================] - 5s 86us/step - loss: 141.2308\n",
            "Epoch 61/100\n",
            "34100/60000 [================>.............] - ETA: 2s - loss: 141.2473"
          ],
          "name": "stdout"
        },
        {
          "output_type": "stream",
          "text": [
            "60000/60000 [==============================] - 5s 86us/step - loss: 141.1277\n",
            "Epoch 62/100\n",
            "60000/60000 [==============================] - 5s 86us/step - loss: 141.0185\n",
            "Epoch 63/100\n",
            "60000/60000 [==============================] - 5s 86us/step - loss: 140.9421\n",
            "Epoch 64/100\n",
            "60000/60000 [==============================] - 5s 85us/step - loss: 140.8567\n",
            "Epoch 65/100\n",
            "33200/60000 [===============>..............] - ETA: 2s - loss: 140.9059"
          ],
          "name": "stdout"
        },
        {
          "output_type": "stream",
          "text": [
            "60000/60000 [==============================] - 5s 86us/step - loss: 140.9126\n",
            "Epoch 66/100\n",
            "60000/60000 [==============================] - 5s 86us/step - loss: 140.6510\n",
            "Epoch 67/100\n",
            "60000/60000 [==============================] - 5s 86us/step - loss: 140.6377\n",
            "Epoch 68/100\n",
            "60000/60000 [==============================] - 5s 86us/step - loss: 140.5263\n",
            "Epoch 69/100\n",
            "33500/60000 [===============>..............] - ETA: 2s - loss: 140.3134"
          ],
          "name": "stdout"
        },
        {
          "output_type": "stream",
          "text": [
            "60000/60000 [==============================] - 5s 86us/step - loss: 140.5574\n",
            "Epoch 70/100\n",
            "60000/60000 [==============================] - 5s 86us/step - loss: 140.3846\n",
            "Epoch 71/100\n",
            "60000/60000 [==============================] - 5s 86us/step - loss: 140.2947\n",
            "Epoch 72/100\n",
            "60000/60000 [==============================] - 5s 85us/step - loss: 140.2798\n",
            "Epoch 73/100\n",
            "32800/60000 [===============>..............] - ETA: 2s - loss: 140.6675"
          ],
          "name": "stdout"
        },
        {
          "output_type": "stream",
          "text": [
            "60000/60000 [==============================] - 5s 87us/step - loss: 140.2661\n",
            "Epoch 74/100\n",
            "60000/60000 [==============================] - 5s 85us/step - loss: 140.1422\n",
            "Epoch 75/100\n",
            "60000/60000 [==============================] - 5s 84us/step - loss: 140.1008\n",
            "Epoch 76/100\n",
            "60000/60000 [==============================] - 5s 86us/step - loss: 139.9567\n",
            "Epoch 77/100\n",
            "36200/60000 [=================>............] - ETA: 2s - loss: 139.9642"
          ],
          "name": "stdout"
        },
        {
          "output_type": "stream",
          "text": [
            "60000/60000 [==============================] - 5s 85us/step - loss: 139.8814\n",
            "Epoch 78/100\n",
            "60000/60000 [==============================] - 5s 85us/step - loss: 139.8994\n",
            "Epoch 79/100\n",
            "60000/60000 [==============================] - 5s 86us/step - loss: 139.8201\n",
            "Epoch 80/100\n",
            "60000/60000 [==============================] - 5s 85us/step - loss: 139.7412\n",
            "Epoch 81/100\n",
            "35400/60000 [================>.............] - ETA: 2s - loss: 139.8122"
          ],
          "name": "stdout"
        },
        {
          "output_type": "stream",
          "text": [
            "60000/60000 [==============================] - 5s 85us/step - loss: 139.7939\n",
            "Epoch 82/100\n",
            "60000/60000 [==============================] - 5s 86us/step - loss: 139.6297\n",
            "Epoch 83/100\n",
            "60000/60000 [==============================] - 5s 87us/step - loss: 139.5816\n",
            "Epoch 84/100\n",
            "60000/60000 [==============================] - 5s 86us/step - loss: 139.5962\n",
            "Epoch 85/100\n",
            "31900/60000 [==============>...............] - ETA: 2s - loss: 139.8565"
          ],
          "name": "stdout"
        },
        {
          "output_type": "stream",
          "text": [
            "60000/60000 [==============================] - 5s 85us/step - loss: 139.4457\n",
            "Epoch 86/100\n",
            "60000/60000 [==============================] - 5s 85us/step - loss: 139.4178\n",
            "Epoch 87/100\n",
            "60000/60000 [==============================] - 5s 86us/step - loss: 139.2845\n",
            "Epoch 88/100\n",
            "60000/60000 [==============================] - 5s 86us/step - loss: 139.2779\n",
            "Epoch 89/100\n",
            "32400/60000 [===============>..............] - ETA: 2s - loss: 139.1065"
          ],
          "name": "stdout"
        },
        {
          "output_type": "stream",
          "text": [
            "60000/60000 [==============================] - 5s 85us/step - loss: 139.3078\n",
            "Epoch 90/100\n",
            "60000/60000 [==============================] - 5s 85us/step - loss: 139.1670\n",
            "Epoch 91/100\n",
            "60000/60000 [==============================] - 5s 85us/step - loss: 139.0884\n",
            "Epoch 92/100\n",
            "60000/60000 [==============================] - 5s 84us/step - loss: 139.1159\n",
            "Epoch 93/100\n",
            "35600/60000 [================>.............] - ETA: 2s - loss: 138.8556"
          ],
          "name": "stdout"
        },
        {
          "output_type": "stream",
          "text": [
            "60000/60000 [==============================] - 5s 87us/step - loss: 139.0896\n",
            "Epoch 94/100\n",
            "60000/60000 [==============================] - 5s 87us/step - loss: 138.9613\n",
            "Epoch 95/100\n",
            "60000/60000 [==============================] - 5s 86us/step - loss: 138.8380\n",
            "Epoch 96/100\n",
            "60000/60000 [==============================] - 5s 87us/step - loss: 138.8781\n",
            "Epoch 97/100\n",
            "30900/60000 [==============>...............] - ETA: 2s - loss: 138.6741"
          ],
          "name": "stdout"
        },
        {
          "output_type": "stream",
          "text": [
            "60000/60000 [==============================] - 5s 86us/step - loss: 138.8354\n",
            "Epoch 98/100\n",
            "60000/60000 [==============================] - 5s 86us/step - loss: 138.7070\n",
            "Epoch 99/100\n",
            "60000/60000 [==============================] - 5s 86us/step - loss: 138.8041\n",
            "Epoch 100/100\n",
            "60000/60000 [==============================] - 5s 86us/step - loss: 138.6517\n"
          ],
          "name": "stdout"
        },
        {
          "output_type": "execute_result",
          "data": {
            "text/plain": [
              "<keras.callbacks.History at 0x7ff0c2339748>"
            ]
          },
          "metadata": {
            "tags": []
          },
          "execution_count": 20
        }
      ]
    },
    {
      "metadata": {
        "id": "Lr_kL5gBQy5u",
        "colab_type": "code",
        "colab": {
          "autoexec": {
            "startup": false,
            "wait_interval": 0
          },
          "base_uri": "https://localhost:8080/",
          "height": 3470
        },
        "outputId": "7a31af4e-f2ed-491a-dfba-7d4dfc81f063",
        "executionInfo": {
          "status": "ok",
          "timestamp": 1526574775581,
          "user_tz": 180,
          "elapsed": 2256,
          "user": {
            "displayName": "Will Taylor-Melanson",
            "photoUrl": "https://lh3.googleusercontent.com/a/default-user=s128",
            "userId": "114964597521298864577"
          }
        }
      },
      "cell_type": "code",
      "source": [
        "data = zeroes_data[:100]\n",
        "data[:, 224:365] = 0\n",
        "\n",
        "print(data.shape)\n",
        "\n",
        "preds = end_to_end.predict(x=data, batch_size=batch_size)\n",
        "\n",
        "print('\\n\\n*********end-to-end************')\n",
        "imshow(preds[5])\n",
        "print('\\n\\n\\n\\n*********actual************')\n",
        "imshow(data[5])\n",
        "\n",
        "codings = np.random.normal(size=(batch_size, n_latent))\n",
        "\n",
        "preds = decoder.predict(x=codings, batch_size=batch_size)\n",
        "\n",
        "print('\\n\\n\\n\\n*********generations************')\n",
        "for p in preds[4:10]:\n",
        "  print('\\n*********gen************')\n",
        "  imshow(p)"
      ],
      "execution_count": 24,
      "outputs": [
        {
          "output_type": "stream",
          "text": [
            "(100, 784)\n",
            "\n",
            "\n",
            "*********end-to-end************\n"
          ],
          "name": "stdout"
        },
        {
          "output_type": "display_data",
          "data": {
            "image/png": "[encoded data removed]",
            "text/plain": [
              "<matplotlib.figure.Figure at 0x7ff0c1a28358>"
            ]
          },
          "metadata": {
            "tags": []
          }
        },
        {
          "output_type": "stream",
          "text": [
            "\n",
            "\n",
            "\n",
            "\n",
            "*********actual************\n"
          ],
          "name": "stdout"
        },
        {
          "output_type": "display_data",
          "data": {
            "image/png": "[encoded data removed]",
            "text/plain": [
              "<matplotlib.figure.Figure at 0x7ff0c1a40048>"
            ]
          },
          "metadata": {
            "tags": []
          }
        },
        {
          "output_type": "stream",
          "text": [
            "\n",
            "\n",
            "\n",
            "\n",
            "*********generations************\n",
            "\n",
            "\n",
            "\n",
            "\n",
            "*********gen************\n"
          ],
          "name": "stdout"
        },
        {
          "output_type": "display_data",
          "data": {
            "image/png": "[encoded data removed]",
            "text/plain": [
              "<matplotlib.figure.Figure at 0x7ff0c1b1ebe0>"
            ]
          },
          "metadata": {
            "tags": []
          }
        },
        {
          "output_type": "stream",
          "text": [
            "\n",
            "\n",
            "\n",
            "\n",
            "*********gen************\n"
          ],
          "name": "stdout"
        },
        {
          "output_type": "display_data",
          "data": {
            "image/png": "[encoded data removed]",
            "text/plain": [
              "<matplotlib.figure.Figure at 0x7ff0c1a7f668>"
            ]
          },
          "metadata": {
            "tags": []
          }
        },
        {
          "output_type": "stream",
          "text": [
            "\n",
            "\n",
            "\n",
            "\n",
            "*********gen************\n"
          ],
          "name": "stdout"
        },
        {
          "output_type": "display_data",
          "data": {
            "image/png": "[encoded data removed]",
            "text/plain": [
              "<matplotlib.figure.Figure at 0x7ff0c19c7128>"
            ]
          },
          "metadata": {
            "tags": []
          }
        },
        {
          "output_type": "stream",
          "text": [
            "\n",
            "\n",
            "\n",
            "\n",
            "*********gen************\n"
          ],
          "name": "stdout"
        },
        {
          "output_type": "display_data",
          "data": {
            "image/png": "[encoded data removed]",
            "text/plain": [
              "<matplotlib.figure.Figure at 0x7ff0c1888e48>"
            ]
          },
          "metadata": {
            "tags": []
          }
        },
        {
          "output_type": "stream",
          "text": [
            "\n",
            "\n",
            "\n",
            "\n",
            "*********gen************\n"
          ],
          "name": "stdout"
        },
        {
          "output_type": "display_data",
          "data": {
            "image/png": "[encoded data removed]",
            "text/plain": [
              "<matplotlib.figure.Figure at 0x7ff0c1983278>"
            ]
          },
          "metadata": {
            "tags": []
          }
        },
        {
          "output_type": "stream",
          "text": [
            "\n",
            "\n",
            "\n",
            "\n",
            "*********gen************\n"
          ],
          "name": "stdout"
        },
        {
          "output_type": "display_data",
          "data": {
            "image/png": "[encoded data removed]",
            "text/plain": [
              "<matplotlib.figure.Figure at 0x7ff0c17b1dd8>"
            ]
          },
          "metadata": {
            "tags": []
          }
        }
      ]
    },
    {
      "metadata": {
        "id": "8n2OA2k28HJ0",
        "colab_type": "code",
        "colab": {
          "autoexec": {
            "startup": false,
            "wait_interval": 0
          }
        }
      },
      "cell_type": "code",
      "source": [
        ""
      ],
      "execution_count": 0,
      "outputs": []
    }
  ]
}